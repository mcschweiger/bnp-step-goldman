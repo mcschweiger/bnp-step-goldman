{
 "cells": [
  {
   "cell_type": "code",
   "execution_count": 1,
   "metadata": {},
   "outputs": [],
   "source": [
    "import bnpstep as bnp\n",
    "\n",
    "\"\"\"\n",
    "Initialize new BNPStep Object\n",
    "\"\"\"\n",
    "sampler = bnp.BNPStep()\n",
    "\n",
    "\"\"\"\n",
    "Load your data set.\n",
    "Currently, accepted data formats are:\n",
    "        .txt, no time points, with each observation delimited by a newline (\\n)\n",
    "        .txt with time points, with times first and observations second, separated by a comma (no space).\n",
    "        .csv, no time points. Observations can be as a single column or single row.\n",
    "        .csv with time points. Time points are in the first column, while observations are in the second column.\n",
    "        There should be only one time, observation pair per row.\n",
    "\n",
    "        The first argument takes the filename of your data set (including the extension), while the second\n",
    "        argument indicates whether your file contains time points.\n",
    "\n",
    "        Included with this tutorial code are several dummy data sets as examples.\n",
    "\n",
    "NOTE: Your data file must be in the same directory as this notebook and the source files!\n",
    "\"\"\"\n",
    "sampler.load_data(\"data/ayush_data_20241220.csv\", has_timepoints=False)"
   ]
  },
  {
   "cell_type": "code",
   "execution_count": null,
   "metadata": {},
   "outputs": [],
   "source": [
    "\"\"\"\n",
    "Analyze your data, then save the results\n",
    "\n",
    "For best results, we recommend generating 50000 or more samples.\n",
    "\"\"\"\n",
    "sampler.analyze(num_samples=50000)\n",
    "\n",
    "sampler.results_to_file(outfile='your_results_file', simple=True)"
   ]
  },
  {
   "cell_type": "code",
   "execution_count": null,
   "metadata": {},
   "outputs": [],
   "source": [
    "\"\"\"\n",
    "Visualize your results. Figures will be shown below and saved to disk in BNP-Step's directory.\n",
    "\n",
    "\"\"\"\n",
    "sampler.visualize_results(['step', 'hist_step_height', 'hist_dwell_time', 'hist_emission'])"
   ]
  }
 ],
 "metadata": {
  "kernelspec": {
   "display_name": "stepfind-new",
   "language": "python",
   "name": "python3"
  },
  "language_info": {
   "codemirror_mode": {
    "name": "ipython",
    "version": 3
   },
   "file_extension": ".py",
   "mimetype": "text/x-python",
   "name": "python",
   "nbconvert_exporter": "python",
   "pygments_lexer": "ipython3",
   "version": "3.10.11"
  }
 },
 "nbformat": 4,
 "nbformat_minor": 2
}
