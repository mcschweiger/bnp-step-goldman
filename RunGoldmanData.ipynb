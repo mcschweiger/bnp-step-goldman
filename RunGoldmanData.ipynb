{
 "cells": [
  {
   "cell_type": "code",
   "execution_count": 1,
   "metadata": {},
   "outputs": [
    {
     "ename": "IndexError",
     "evalue": "index 1 is out of bounds for axis 1 with size 1",
     "output_type": "error",
     "traceback": [
      "\u001b[0;31m---------------------------------------------------------------------------\u001b[0m",
      "\u001b[0;31mIndexError\u001b[0m                                Traceback (most recent call last)",
      "Cell \u001b[0;32mIn[1], line 24\u001b[0m\n\u001b[1;32m      6\u001b[0m sampler \u001b[38;5;241m=\u001b[39m bnp\u001b[38;5;241m.\u001b[39mBNPStep()\n\u001b[1;32m      8\u001b[0m \u001b[38;5;124;03m\"\"\"\u001b[39;00m\n\u001b[1;32m      9\u001b[0m \u001b[38;5;124;03mLoad your data set.\u001b[39;00m\n\u001b[1;32m     10\u001b[0m \u001b[38;5;124;03mCurrently, accepted data formats are:\u001b[39;00m\n\u001b[0;32m   (...)\u001b[0m\n\u001b[1;32m     22\u001b[0m \u001b[38;5;124;03mNOTE: Your data file must be in the same directory as this notebook and the source files!\u001b[39;00m\n\u001b[1;32m     23\u001b[0m \u001b[38;5;124;03m\"\"\"\u001b[39;00m\n\u001b[0;32m---> 24\u001b[0m \u001b[43msampler\u001b[49m\u001b[38;5;241;43m.\u001b[39;49m\u001b[43mload_data\u001b[49m\u001b[43m(\u001b[49m\u001b[38;5;124;43m\"\u001b[39;49m\u001b[38;5;124;43mdata/ayush_data_20241220.csv\u001b[39;49m\u001b[38;5;124;43m\"\u001b[39;49m\u001b[43m,\u001b[49m\u001b[43m \u001b[49m\u001b[43mhas_timepoints\u001b[49m\u001b[38;5;241;43m=\u001b[39;49m\u001b[38;5;28;43;01mTrue\u001b[39;49;00m\u001b[43m)\u001b[49m\n",
      "File \u001b[0;32m~/codes/stepfind/bnp-step-goldman/bnpstep.py:230\u001b[0m, in \u001b[0;36mBNPStep.load_data\u001b[0;34m(self, filename, data_type, data_format, has_timepoints)\u001b[0m\n\u001b[1;32m    228\u001b[0m \u001b[38;5;28;01melse\u001b[39;00m:\n\u001b[1;32m    229\u001b[0m     \u001b[38;5;28;01mif\u001b[39;00m data_type \u001b[38;5;241m==\u001b[39m \u001b[38;5;124m'\u001b[39m\u001b[38;5;124mexperimental\u001b[39m\u001b[38;5;124m'\u001b[39m:\n\u001b[0;32m--> 230\u001b[0m         \u001b[38;5;28mself\u001b[39m\u001b[38;5;241m.\u001b[39mdataset \u001b[38;5;241m=\u001b[39m \u001b[43mbnpi\u001b[49m\u001b[38;5;241;43m.\u001b[39;49m\u001b[43mload_data_csv\u001b[49m\u001b[43m(\u001b[49m\u001b[43mfilename\u001b[49m\u001b[43m,\u001b[49m\u001b[43m \u001b[49m\u001b[43mhas_timepoints\u001b[49m\u001b[43m)\u001b[49m\n\u001b[1;32m    231\u001b[0m     \u001b[38;5;28;01melse\u001b[39;00m:\n\u001b[1;32m    232\u001b[0m         \u001b[38;5;28;01mif\u001b[39;00m data_format \u001b[38;5;241m==\u001b[39m \u001b[38;5;124m'\u001b[39m\u001b[38;5;124mhmm\u001b[39m\u001b[38;5;124m'\u001b[39m:\n",
      "File \u001b[0;32m~/codes/stepfind/bnp-step-goldman/bnpinputs.py:122\u001b[0m, in \u001b[0;36mload_data_csv\u001b[0;34m(filename, has_timepoints, path)\u001b[0m\n\u001b[1;32m    120\u001b[0m data_np \u001b[38;5;241m=\u001b[39m pd\u001b[38;5;241m.\u001b[39mDataFrame\u001b[38;5;241m.\u001b[39mto_numpy(data_fr)\n\u001b[1;32m    121\u001b[0m times \u001b[38;5;241m=\u001b[39m data_np[:, \u001b[38;5;241m0\u001b[39m]\n\u001b[0;32m--> 122\u001b[0m data \u001b[38;5;241m=\u001b[39m \u001b[43mdata_np\u001b[49m\u001b[43m[\u001b[49m\u001b[43m:\u001b[49m\u001b[43m,\u001b[49m\u001b[43m \u001b[49m\u001b[38;5;241;43m1\u001b[39;49m\u001b[43m]\u001b[49m\n\u001b[1;32m    124\u001b[0m \u001b[38;5;66;03m# Build dictionary for output\u001b[39;00m\n\u001b[1;32m    125\u001b[0m dataset[\u001b[38;5;124m\"\u001b[39m\u001b[38;5;124mdata\u001b[39m\u001b[38;5;124m\"\u001b[39m] \u001b[38;5;241m=\u001b[39m data\n",
      "\u001b[0;31mIndexError\u001b[0m: index 1 is out of bounds for axis 1 with size 1"
     ]
    }
   ],
   "source": [
    "import bnpstep as bnp\n",
    "\n",
    "\"\"\"\n",
    "Initialize new BNPStep Object\n",
    "\"\"\"\n",
    "sampler = bnp.BNPStep()\n",
    "\n",
    "\"\"\"\n",
    "Load your data set.\n",
    "Currently, accepted data formats are:\n",
    "        .txt, no time points, with each observation delimited by a newline (\\n)\n",
    "        .txt with time points, with times first and observations second, separated by a comma (no space).\n",
    "        .csv, no time points. Observations can be as a single column or single row.\n",
    "        .csv with time points. Time points are in the first column, while observations are in the second column.\n",
    "        There should be only one time, observation pair per row.\n",
    "\n",
    "        The first argument takes the filename of your data set (including the extension), while the second\n",
    "        argument indicates whether your file contains time points.\n",
    "\n",
    "        Included with this tutorial code are several dummy data sets as examples.\n",
    "\n",
    "NOTE: Your data file must be in the same directory as this notebook and the source files!\n",
    "\"\"\"\n",
    "sampler.load_data(\"data/ayush_data_20241220.csv\", has_timepoints=False)"
   ]
  },
  {
   "cell_type": "code",
   "execution_count": null,
   "metadata": {},
   "outputs": [],
   "source": [
    "\"\"\"\n",
    "Analyze your data, then save the results\n",
    "\n",
    "For best results, we recommend generating 50000 or more samples.\n",
    "\"\"\"\n",
    "sampler.analyze(num_samples=50000)\n",
    "\n",
    "sampler.results_to_file(outfile='Goldman', simple=True)"
   ]
  },
  {
   "cell_type": "code",
   "execution_count": null,
   "metadata": {},
   "outputs": [],
   "source": [
    "import matplotlib.pyplot as plt\n",
    "\n",
    "\"\"\"\n",
    "Visualize your results. Figures will be shown below and saved to disk in BNP-Step's directory.\n",
    "\n",
    "\"\"\"\n",
    "sampler.visualize_results(['step'])\n",
    "\n",
    "\n",
    "\n",
    "plt.hist(sampler.dataset['data'])\n",
    "plt.xlabel('E_FRET')\n",
    "plt.ylabel('Counts')\n",
    "plt.savefig(\"Efret_hist.pdf\", format = 'pdf')\n",
    "\n"
   ]
  }
 ],
 "metadata": {
  "kernelspec": {
   "display_name": "stepfind-new",
   "language": "python",
   "name": "python3"
  },
  "language_info": {
   "codemirror_mode": {
    "name": "ipython",
    "version": 3
   },
   "file_extension": ".py",
   "mimetype": "text/x-python",
   "name": "python",
   "nbconvert_exporter": "python",
   "pygments_lexer": "ipython3",
   "version": "3.10.11"
  }
 },
 "nbformat": 4,
 "nbformat_minor": 2
}
